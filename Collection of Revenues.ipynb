{
 "cells": [
  {
   "cell_type": "code",
   "execution_count": 88,
   "metadata": {},
   "outputs": [],
   "source": [
    "from bs4 import BeautifulSoup\n",
    "import requests\n",
    "import pandas as pd"
   ]
  },
  {
   "cell_type": "code",
   "execution_count": 89,
   "metadata": {},
   "outputs": [],
   "source": [
    "empty = ['', '?offset=200', '?offset=400', '?offset=600', '?offset=800', '?offset=1000', '?offset=1200', '?offset=1400', '?offset=1600', '?offset=1800']\n",
    "list_of_titles = []\n",
    "list_of_revenue = []\n",
    "for i in empty:\n",
    "    rev_url = 'https://www.boxofficemojo.com/chart/top_lifetime_gross/{}'.format(i)\n",
    "    rev_page = requests.get(rev_url)\n",
    "    rsoup = BeautifulSoup(rev_page.content, 'html.parser')\n",
    "    rev_title = rsoup.find_all('td', class_='a-text-left mojo-field-type-title')\n",
    "#                             ('a', class_='a-link-normal')\n",
    "    practice_titles =[]\n",
    "    for title in rev_title:\n",
    "        practice_titles.append(title.text)    \n",
    "    list_of_titles_and_years = practice_titles#[15:-11]\n",
    "#     list_of_titles_and_years\n",
    "    for value in list_of_titles_and_years:\n",
    "        #if value < \"1000\" or value > \"2020\": \n",
    "        list_of_titles.append(value)\n",
    "    rev_money = rsoup.find_all('td', class_='a-text-right mojo-field-type-money')\n",
    "#     practice_money = []\n",
    "    for revenue in rev_money:\n",
    "        list_of_revenue.append(revenue.text)"
   ]
  },
  {
   "cell_type": "code",
   "execution_count": 78,
   "metadata": {},
   "outputs": [],
   "source": [
    "len(list_of_revenue)"
   ]
  },
  {
   "cell_type": "code",
   "execution_count": 77,
   "metadata": {},
   "outputs": [],
   "source": [
    "len(list_of_titles)"
   ]
  },
  {
   "cell_type": "code",
   "execution_count": 74,
   "metadata": {},
   "outputs": [],
   "source": [
    "top_gross = dict(zip(list_of_titles,list_of_revenue))\n",
    "# top_gross"
   ]
  }
 ],
 "metadata": {
  "kernelspec": {
   "display_name": "Python 3",
   "language": "python",
   "name": "python3"
  },
  "language_info": {
   "codemirror_mode": {
    "name": "ipython",
    "version": 3
   },
   "file_extension": ".py",
   "mimetype": "text/x-python",
   "name": "python",
   "nbconvert_exporter": "python",
   "pygments_lexer": "ipython3",
   "version": "3.7.4"
  }
 },
 "nbformat": 4,
 "nbformat_minor": 2
}
