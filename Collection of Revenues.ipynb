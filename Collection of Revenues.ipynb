{
 "cells": [
  {
   "cell_type": "code",
   "execution_count": 89,
   "metadata": {},
   "outputs": [],
   "source": [
    "from bs4 import BeautifulSoup\n",
    "import requests\n",
    "import pandas as pd\n",
    "import json"
   ]
  },
  {
   "cell_type": "code",
   "execution_count": 62,
   "metadata": {},
   "outputs": [],
   "source": [
    "top_mov = ['', '?offset=200', '?offset=400', '?offset=600', '?offset=800', '?offset=1000', '?offset=1200', '?offset=1400', '?offset=1600', '?offset=1800']\n",
    "list_of_titles = []\n",
    "list_of_revenue = []\n",
    "for i in top_mov:\n",
    "    rev_url = 'https://www.boxofficemojo.com/chart/top_lifetime_gross/{}'.format(i)\n",
    "    rev_page = requests.get(rev_url)\n",
    "    revsoup = BeautifulSoup(rev_page.content, 'html.parser')\n",
    "    rev_title = revsoup.find_all('td', class_='a-text-left mojo-field-type-title')\n",
    "#                             ('a', class_='a-link-normal')\n",
    "    practice_titles =[]\n",
    "    for title in rev_title:\n",
    "        practice_titles.append(title.text)    \n",
    "    list_of_titles_and_years = practice_titles#[15:-11]\n",
    "#     list_of_titles_and_years\n",
    "    for value in list_of_titles_and_years:\n",
    "        #if value < \"1000\" or value > \"2020\": \n",
    "        list_of_titles.append(value)\n",
    "    rev_money = revsoup.find_all('td', class_='a-text-right mojo-field-type-money')\n",
    "#     practice_money = []\n",
    "    for revenue in rev_money:\n",
    "        list_of_revenue.append(revenue.text)"
   ]
  },
  {
   "cell_type": "code",
   "execution_count": 65,
   "metadata": {},
   "outputs": [
    {
     "data": {
      "text/plain": [
       "2000"
      ]
     },
     "execution_count": 65,
     "metadata": {},
     "output_type": "execute_result"
    }
   ],
   "source": [
    "len(list_of_revenue)"
   ]
  },
  {
   "cell_type": "code",
   "execution_count": 49,
   "metadata": {},
   "outputs": [
    {
     "data": {
      "text/plain": [
       "2000"
      ]
     },
     "execution_count": 49,
     "metadata": {},
     "output_type": "execute_result"
    }
   ],
   "source": [
    "len(list_of_titles)"
   ]
  },
  {
   "cell_type": "code",
   "execution_count": 70,
   "metadata": {},
   "outputs": [],
   "source": [
    "top_gross = dict(zip(list_of_titles,list_of_revenue))\n",
    "# top_gross\n",
    "\n",
    "# new_list = {}\n",
    "# # for key in list_of_titles\n",
    "# new_list[keys] = 'Movie Title'\n",
    "# new_list[value] = list_of_titles\n",
    "\n",
    "title_dict = {'Movie Title': list_of_titles}\n",
    "revenue_dict = {'Revenue': list_of_revenue}"
   ]
  },
  {
   "cell_type": "code",
   "execution_count": 81,
   "metadata": {},
   "outputs": [
    {
     "data": {
      "text/html": [
       "<div>\n",
       "<style scoped>\n",
       "    .dataframe tbody tr th:only-of-type {\n",
       "        vertical-align: middle;\n",
       "    }\n",
       "\n",
       "    .dataframe tbody tr th {\n",
       "        vertical-align: top;\n",
       "    }\n",
       "\n",
       "    .dataframe thead th {\n",
       "        text-align: right;\n",
       "    }\n",
       "</style>\n",
       "<table border=\"1\" class=\"dataframe\">\n",
       "  <thead>\n",
       "    <tr style=\"text-align: right;\">\n",
       "      <th></th>\n",
       "      <th>Movie Title</th>\n",
       "    </tr>\n",
       "  </thead>\n",
       "  <tbody>\n",
       "    <tr>\n",
       "      <td>0</td>\n",
       "      <td>Star Wars: Episode VII - The Force Awakens</td>\n",
       "    </tr>\n",
       "    <tr>\n",
       "      <td>1</td>\n",
       "      <td>Avengers: Endgame</td>\n",
       "    </tr>\n",
       "    <tr>\n",
       "      <td>2</td>\n",
       "      <td>Avatar</td>\n",
       "    </tr>\n",
       "    <tr>\n",
       "      <td>3</td>\n",
       "      <td>Black Panther</td>\n",
       "    </tr>\n",
       "    <tr>\n",
       "      <td>4</td>\n",
       "      <td>Avengers: Infinity War</td>\n",
       "    </tr>\n",
       "    <tr>\n",
       "      <td>...</td>\n",
       "      <td>...</td>\n",
       "    </tr>\n",
       "    <tr>\n",
       "      <td>1995</td>\n",
       "      <td>Sherlock Gnomes</td>\n",
       "    </tr>\n",
       "    <tr>\n",
       "      <td>1996</td>\n",
       "      <td>The Jungle Book</td>\n",
       "    </tr>\n",
       "    <tr>\n",
       "      <td>1997</td>\n",
       "      <td>Point Break</td>\n",
       "    </tr>\n",
       "    <tr>\n",
       "      <td>1998</td>\n",
       "      <td>Biloxi Blues</td>\n",
       "    </tr>\n",
       "    <tr>\n",
       "      <td>1999</td>\n",
       "      <td>Sense and Sensibility</td>\n",
       "    </tr>\n",
       "  </tbody>\n",
       "</table>\n",
       "<p>2000 rows × 1 columns</p>\n",
       "</div>"
      ],
      "text/plain": [
       "                                     Movie Title\n",
       "0     Star Wars: Episode VII - The Force Awakens\n",
       "1                              Avengers: Endgame\n",
       "2                                         Avatar\n",
       "3                                  Black Panther\n",
       "4                         Avengers: Infinity War\n",
       "...                                          ...\n",
       "1995                             Sherlock Gnomes\n",
       "1996                             The Jungle Book\n",
       "1997                                 Point Break\n",
       "1998                                Biloxi Blues\n",
       "1999                       Sense and Sensibility\n",
       "\n",
       "[2000 rows x 1 columns]"
      ]
     },
     "execution_count": 81,
     "metadata": {},
     "output_type": "execute_result"
    }
   ],
   "source": [
    "top_titles = pd.DataFrame.from_dict(title_dict)\n",
    "top_titles"
   ]
  },
  {
   "cell_type": "code",
   "execution_count": 82,
   "metadata": {},
   "outputs": [
    {
     "data": {
      "text/html": [
       "<div>\n",
       "<style scoped>\n",
       "    .dataframe tbody tr th:only-of-type {\n",
       "        vertical-align: middle;\n",
       "    }\n",
       "\n",
       "    .dataframe tbody tr th {\n",
       "        vertical-align: top;\n",
       "    }\n",
       "\n",
       "    .dataframe thead th {\n",
       "        text-align: right;\n",
       "    }\n",
       "</style>\n",
       "<table border=\"1\" class=\"dataframe\">\n",
       "  <thead>\n",
       "    <tr style=\"text-align: right;\">\n",
       "      <th></th>\n",
       "      <th>Revenue</th>\n",
       "    </tr>\n",
       "  </thead>\n",
       "  <tbody>\n",
       "    <tr>\n",
       "      <td>0</td>\n",
       "      <td>$936,662,225</td>\n",
       "    </tr>\n",
       "    <tr>\n",
       "      <td>1</td>\n",
       "      <td>$858,373,000</td>\n",
       "    </tr>\n",
       "    <tr>\n",
       "      <td>2</td>\n",
       "      <td>$760,507,625</td>\n",
       "    </tr>\n",
       "    <tr>\n",
       "      <td>3</td>\n",
       "      <td>$700,059,566</td>\n",
       "    </tr>\n",
       "    <tr>\n",
       "      <td>4</td>\n",
       "      <td>$678,815,482</td>\n",
       "    </tr>\n",
       "    <tr>\n",
       "      <td>...</td>\n",
       "      <td>...</td>\n",
       "    </tr>\n",
       "    <tr>\n",
       "      <td>1995</td>\n",
       "      <td>$43,242,871</td>\n",
       "    </tr>\n",
       "    <tr>\n",
       "      <td>1996</td>\n",
       "      <td>$43,229,904</td>\n",
       "    </tr>\n",
       "    <tr>\n",
       "      <td>1997</td>\n",
       "      <td>$43,218,387</td>\n",
       "    </tr>\n",
       "    <tr>\n",
       "      <td>1998</td>\n",
       "      <td>$43,184,798</td>\n",
       "    </tr>\n",
       "    <tr>\n",
       "      <td>1999</td>\n",
       "      <td>$43,182,776</td>\n",
       "    </tr>\n",
       "  </tbody>\n",
       "</table>\n",
       "<p>2000 rows × 1 columns</p>\n",
       "</div>"
      ],
      "text/plain": [
       "           Revenue\n",
       "0     $936,662,225\n",
       "1     $858,373,000\n",
       "2     $760,507,625\n",
       "3     $700,059,566\n",
       "4     $678,815,482\n",
       "...            ...\n",
       "1995   $43,242,871\n",
       "1996   $43,229,904\n",
       "1997   $43,218,387\n",
       "1998   $43,184,798\n",
       "1999   $43,182,776\n",
       "\n",
       "[2000 rows x 1 columns]"
      ]
     },
     "execution_count": 82,
     "metadata": {},
     "output_type": "execute_result"
    }
   ],
   "source": [
    "top_rev = pd.DataFrame.from_dict(revenue_dict)\n",
    "top_rev"
   ]
  },
  {
   "cell_type": "code",
   "execution_count": 88,
   "metadata": {},
   "outputs": [
    {
     "data": {
      "text/html": [
       "<div>\n",
       "<style scoped>\n",
       "    .dataframe tbody tr th:only-of-type {\n",
       "        vertical-align: middle;\n",
       "    }\n",
       "\n",
       "    .dataframe tbody tr th {\n",
       "        vertical-align: top;\n",
       "    }\n",
       "\n",
       "    .dataframe thead th {\n",
       "        text-align: right;\n",
       "    }\n",
       "</style>\n",
       "<table border=\"1\" class=\"dataframe\">\n",
       "  <thead>\n",
       "    <tr style=\"text-align: right;\">\n",
       "      <th></th>\n",
       "      <th>Revenue</th>\n",
       "    </tr>\n",
       "    <tr>\n",
       "      <th>Movie Title</th>\n",
       "      <th></th>\n",
       "    </tr>\n",
       "  </thead>\n",
       "  <tbody>\n",
       "    <tr>\n",
       "      <td>Star Wars: Episode VII - The Force Awakens</td>\n",
       "      <td>$936,662,225</td>\n",
       "    </tr>\n",
       "    <tr>\n",
       "      <td>Avengers: Endgame</td>\n",
       "      <td>$858,373,000</td>\n",
       "    </tr>\n",
       "    <tr>\n",
       "      <td>Avatar</td>\n",
       "      <td>$760,507,625</td>\n",
       "    </tr>\n",
       "    <tr>\n",
       "      <td>Black Panther</td>\n",
       "      <td>$700,059,566</td>\n",
       "    </tr>\n",
       "    <tr>\n",
       "      <td>Avengers: Infinity War</td>\n",
       "      <td>$678,815,482</td>\n",
       "    </tr>\n",
       "    <tr>\n",
       "      <td>...</td>\n",
       "      <td>...</td>\n",
       "    </tr>\n",
       "    <tr>\n",
       "      <td>Sherlock Gnomes</td>\n",
       "      <td>$43,242,871</td>\n",
       "    </tr>\n",
       "    <tr>\n",
       "      <td>The Jungle Book</td>\n",
       "      <td>$43,229,904</td>\n",
       "    </tr>\n",
       "    <tr>\n",
       "      <td>Point Break</td>\n",
       "      <td>$43,218,387</td>\n",
       "    </tr>\n",
       "    <tr>\n",
       "      <td>Biloxi Blues</td>\n",
       "      <td>$43,184,798</td>\n",
       "    </tr>\n",
       "    <tr>\n",
       "      <td>Sense and Sensibility</td>\n",
       "      <td>$43,182,776</td>\n",
       "    </tr>\n",
       "  </tbody>\n",
       "</table>\n",
       "<p>2000 rows × 1 columns</p>\n",
       "</div>"
      ],
      "text/plain": [
       "                                                 Revenue\n",
       "Movie Title                                             \n",
       "Star Wars: Episode VII - The Force Awakens  $936,662,225\n",
       "Avengers: Endgame                           $858,373,000\n",
       "Avatar                                      $760,507,625\n",
       "Black Panther                               $700,059,566\n",
       "Avengers: Infinity War                      $678,815,482\n",
       "...                                                  ...\n",
       "Sherlock Gnomes                              $43,242,871\n",
       "The Jungle Book                              $43,229,904\n",
       "Point Break                                  $43,218,387\n",
       "Biloxi Blues                                 $43,184,798\n",
       "Sense and Sensibility                        $43,182,776\n",
       "\n",
       "[2000 rows x 1 columns]"
      ]
     },
     "execution_count": 88,
     "metadata": {},
     "output_type": "execute_result"
    }
   ],
   "source": [
    "top2000 = pd.concat([top_titles, top_rev], axis = 1)\n",
    "top2000.set_index('Movie Title')"
   ]
  },
  {
   "cell_type": "code",
   "execution_count": 15,
   "metadata": {},
   "outputs": [],
   "source": [
    "# creates 2 lists of top 2000 movie titles and their opening weekend for G/PG rated movies\n",
    "url_for_mpaa = ['', '&offset=200', '&offset=400', '&offset=600', '&offset=800', '&offset=1000', '&offset=1200', '&offset=1400', '&offset=1600', '&offset=1800']\n",
    "# list_of_titles = []\n",
    "# list_of_revenue = []\n",
    "list_of_pgmovies = []\n",
    "list_of_pgrevenue = []\n",
    "for i in url_for_mpaa:\n",
    "    pg_url = 'https://www.boxofficemojo.com/chart/top_opening_wknd_by_mpaa/?by_mpaa=G%2FPG{}'.format(i)\n",
    "    pg_page = requests.get(pg_url)\n",
    "    pgsoup = BeautifulSoup(pg_page.content, 'html.parser')\n",
    "    pg_title = rsoup.find_all('td', class_='a-text-left mojo-header-column mojo-truncate mojo-field-type-release mojo-cell-wide')\n",
    "#                             ('a', class_='a-link-normal')\n",
    "    practice_pg =[]\n",
    "    for title in pg_title:\n",
    "        practice_pg.append(title.text)    \n",
    "    working_list_of_pgmovies = practice_pg#[15:-11]\n",
    "#     list_of_titles_and_years\n",
    "    for value in working_list_of_pgmovies:\n",
    "        #if value < \"1000\" or value > \"2020\": \n",
    "        list_of_pgmovies.append(value)\n",
    "    pg_money = rsoup.find_all('td', class_='a-text-right mojo-field-type-money mojo-estimatable')\n",
    "#     practice_money = []\n",
    "    for revenue in pg_money:\n",
    "        list_of_pgrevenue.append(revenue.text)"
   ]
  },
  {
   "cell_type": "code",
   "execution_count": 54,
   "metadata": {
    "scrolled": true
   },
   "outputs": [
    {
     "data": {
      "text/plain": [
       "2000"
      ]
     },
     "execution_count": 54,
     "metadata": {},
     "output_type": "execute_result"
    }
   ],
   "source": [
    "len(list_of_pgmovies)"
   ]
  },
  {
   "cell_type": "code",
   "execution_count": 53,
   "metadata": {},
   "outputs": [
    {
     "data": {
      "text/plain": [
       "2000"
      ]
     },
     "execution_count": 53,
     "metadata": {},
     "output_type": "execute_result"
    }
   ],
   "source": [
    "len(list_of_pgrevenue[::3])"
   ]
  },
  {
   "cell_type": "code",
   "execution_count": 23,
   "metadata": {},
   "outputs": [],
   "source": [
    "pg_open_wknd = dict(zip(list_of_pgmovies, list_of_pgrevenue))"
   ]
  },
  {
   "cell_type": "code",
   "execution_count": 19,
   "metadata": {},
   "outputs": [],
   "source": [
    "# creates 2 lists of top 2000 movie titles and their opening weekend for R rated movies\n",
    "url_for_mpaa = ['', '&offset=200', '&offset=400', '&offset=600', '&offset=800', '&offset=1000', '&offset=1200', '&offset=1400', '&offset=1600', '&offset=1800']\n",
    "# list_of_titles = []\n",
    "# list_of_revenue = []\n",
    "list_of_rmovies = []\n",
    "list_of_rrevenue = []\n",
    "for i in url_for_mpaa:\n",
    "    r_url = 'https://www.boxofficemojo.com/chart/top_opening_wknd_by_mpaa/?by_mpaa=R{}'.format(i)\n",
    "    r_page = requests.get(pg_url)\n",
    "    rsoup = BeautifulSoup(r_page.content, 'html.parser')\n",
    "    r_title = rsoup.find_all('td', class_='a-text-left mojo-header-column mojo-truncate mojo-field-type-release mojo-cell-wide')\n",
    "#                             ('a', class_='a-link-normal')\n",
    "    practice_r =[]\n",
    "    for title in r_title:\n",
    "        practice_r.append(title.text)    \n",
    "    working_list_of_rmovies = practice_r#[15:-11]\n",
    "#     list_of_titles_and_years\n",
    "    for value in working_list_of_rmovies:\n",
    "        #if value < \"1000\" or value > \"2020\": \n",
    "        list_of_rmovies.append(value)\n",
    "    r_money = rsoup.find_all('td', class_='a-text-right mojo-field-type-money mojo-estimatable')\n",
    "#     practice_money = []\n",
    "    for revenue in r_money:\n",
    "        list_of_rrevenue.append(revenue.text)"
   ]
  },
  {
   "cell_type": "code",
   "execution_count": 20,
   "metadata": {},
   "outputs": [
    {
     "data": {
      "text/plain": [
       "2000"
      ]
     },
     "execution_count": 20,
     "metadata": {},
     "output_type": "execute_result"
    }
   ],
   "source": [
    "len(list_of_rmovies)"
   ]
  },
  {
   "cell_type": "code",
   "execution_count": 39,
   "metadata": {},
   "outputs": [
    {
     "data": {
      "text/plain": [
       "2000"
      ]
     },
     "execution_count": 39,
     "metadata": {},
     "output_type": "execute_result"
    }
   ],
   "source": [
    "len(list_of_rrevenue[::3])"
   ]
  },
  {
   "cell_type": "code",
   "execution_count": 24,
   "metadata": {},
   "outputs": [],
   "source": [
    "r_open_wknd = dict(zip(list_of_rmovies, list_of_rrevenue))\n",
    "# combine r and pg open wknd to create scatter plot, popularity on x and revenue on y"
   ]
  },
  {
   "cell_type": "code",
   "execution_count": null,
   "metadata": {},
   "outputs": [],
   "source": []
  }
 ],
 "metadata": {
  "kernelspec": {
   "display_name": "Python 3",
   "language": "python",
   "name": "python3"
  },
  "language_info": {
   "codemirror_mode": {
    "name": "ipython",
    "version": 3
   },
   "file_extension": ".py",
   "mimetype": "text/x-python",
   "name": "python",
   "nbconvert_exporter": "python",
   "pygments_lexer": "ipython3",
   "version": "3.7.4"
  }
 },
 "nbformat": 4,
 "nbformat_minor": 2
}
